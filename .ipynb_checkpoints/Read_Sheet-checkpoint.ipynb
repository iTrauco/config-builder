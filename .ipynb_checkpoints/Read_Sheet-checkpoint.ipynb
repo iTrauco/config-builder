{
 "cells": [
  {
   "cell_type": "code",
   "execution_count": 2,
   "id": "43fc889d",
   "metadata": {},
   "outputs": [],
   "source": [
    "\n",
    "import pygsheets\n",
    "import pandas as pd\n",
    "#authorization\n",
    "gc = pygsheets.authorize(service_file='keys.json')\n",
    "\n",
    "# Create empty dataframe\n",
    "df = pd.DataFrame()\n",
    "\n",
    "# Create a column\n",
    "df['name'] = ['John', 'Steve', 'Sarah']\n",
    "\n",
    "#open the google spreadsheet (where 'PY to Gsheet Test' is the name of my sheet)\n",
    "sh = gc.open('tests')\n",
    "\n",
    "#select the first sheet \n",
    "wks = sh[0]\n",
    "\n",
    "#update the first sheet with df, starting at cell B2. \n",
    "wks.set_dataframe(df,(1,1))"
   ]
  },
  {
   "cell_type": "code",
   "execution_count": null,
   "id": "587e8b42",
   "metadata": {},
   "outputs": [],
   "source": []
  },
  {
   "cell_type": "code",
   "execution_count": null,
   "id": "1411bd6e",
   "metadata": {},
   "outputs": [],
   "source": [
    "# write\n",
    "\n",
    "\n",
    "# # csv to df\n",
    "# data = f\"{file}.csv\"\n",
    "# df = pd.read_csv(data)\n",
    "# df2 = df.reset_index()\n",
    "\n",
    "# wks_name = 'Data'\n",
    "# cell_of_start_df = 'A1'\n",
    "# # upload the dataframe of the clients we want to delete\n",
    "# d2g.upload(df2,\n",
    "#            spreadsheet_key,\n",
    "#            wks_name,\n",
    "#            credentials=credentials,\n",
    "#            col_names=True,\n",
    "#            row_names=False,\n",
    "#            start_cell = cell_of_start_df,\n",
    "#            clean=True)\n",
    "# print ('The sheet is updated successfully')\n"
   ]
  }
 ],
 "metadata": {
  "kernelspec": {
   "display_name": "Python 3 (ipykernel)",
   "language": "python",
   "name": "python3"
  },
  "language_info": {
   "codemirror_mode": {
    "name": "ipython",
    "version": 3
   },
   "file_extension": ".py",
   "mimetype": "text/x-python",
   "name": "python",
   "nbconvert_exporter": "python",
   "pygments_lexer": "ipython3",
   "version": "3.11.3"
  }
 },
 "nbformat": 4,
 "nbformat_minor": 5
}
