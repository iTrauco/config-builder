{
 "cells": [
  {
   "cell_type": "code",
   "execution_count": 78,
   "id": "43fc889d",
   "metadata": {},
   "outputs": [],
   "source": [
    "import gspread\n",
    "from google.oauth2.service_account import Credentials\n",
    "import pandas as pd\n",
    "import csv"
   ]
  },
  {
   "cell_type": "code",
   "execution_count": 79,
   "id": "587e8b42",
   "metadata": {},
   "outputs": [],
   "source": [
    "scope = ['https://www.googleapis.com/auth/spreadsheets',\n",
    "        'https://www.googleapis.com/auth/drive']"
   ]
  },
  {
   "cell_type": "code",
   "execution_count": 80,
   "id": "e0a5b392",
   "metadata": {},
   "outputs": [],
   "source": [
    "creds = Credentials.from_service_account_file(\"/Users/christophertrauco/.config/gspread/poc-g-sheets-00caec6d2d75.json\", scopes=scope)"
   ]
  },
  {
   "cell_type": "code",
   "execution_count": 81,
   "id": "47d7140e",
   "metadata": {},
   "outputs": [],
   "source": [
    "client = gspread.authorize(creds)"
   ]
  },
  {
   "cell_type": "code",
   "execution_count": 82,
   "id": "16cd5c96",
   "metadata": {},
   "outputs": [],
   "source": [
    "google_sh = client.open(\"Chrome Bindings\")"
   ]
  },
  {
   "cell_type": "code",
   "execution_count": 83,
   "id": "4bc2f312",
   "metadata": {},
   "outputs": [
    {
     "name": "stdout",
     "output_type": "stream",
     "text": [
      "                                                   0\n",
      "0  alias twitch='open -n -a \"Google Chrome\" --arg...\n"
     ]
    }
   ],
   "source": [
    "sheet1 = google_sh.get_worksheet(0)\n",
    "df = pd.DataFrame(data=sheet1.get_all_values())\n",
    "print(df)"
   ]
  },
  {
   "cell_type": "code",
   "execution_count": 88,
   "id": "b1e16b2e",
   "metadata": {},
   "outputs": [],
   "source": [
    "df.to_csv('test_config.zsh', index=False, header=False, escapechar=\"\\n\",doublequote=False, quoting=csv.QUOTE_NONE)\n"
   ]
  },
  {
   "cell_type": "code",
   "execution_count": 66,
   "id": "1411bd6e",
   "metadata": {},
   "outputs": [],
   "source": [
    "# write\n",
    "\n",
    "\n",
    "# # csv to df\n",
    "# data = f\"{file}.csv\"\n",
    "# df = pd.read_csv(data)\n",
    "# df2 = df.reset_index()\n",
    "\n",
    "# wks_name = 'Data'\n",
    "# cell_of_start_df = 'A1'\n",
    "# # upload the dataframe of the clients we want to delete\n",
    "# d2g.upload(df2,\n",
    "#            spreadsheet_key,\n",
    "#            wks_name,\n",
    "#            credentials=credentials,\n",
    "#            col_names=True,\n",
    "#            row_names=False,\n",
    "#            start_cell = cell_of_start_df,\n",
    "#            clean=True)\n",
    "# print ('The sheet is updated successfully')\n"
   ]
  },
  {
   "cell_type": "code",
   "execution_count": null,
   "id": "85fb2d84",
   "metadata": {},
   "outputs": [],
   "source": []
  },
  {
   "cell_type": "code",
   "execution_count": null,
   "id": "c2f447d6",
   "metadata": {},
   "outputs": [],
   "source": []
  },
  {
   "cell_type": "code",
   "execution_count": null,
   "id": "87325ae2",
   "metadata": {},
   "outputs": [],
   "source": []
  },
  {
   "cell_type": "code",
   "execution_count": null,
   "id": "a998bc12",
   "metadata": {},
   "outputs": [],
   "source": []
  },
  {
   "cell_type": "code",
   "execution_count": null,
   "id": "754fa415",
   "metadata": {},
   "outputs": [],
   "source": []
  }
 ],
 "metadata": {
  "kernelspec": {
   "display_name": "Python 3 (ipykernel)",
   "language": "python",
   "name": "python3"
  },
  "language_info": {
   "codemirror_mode": {
    "name": "ipython",
    "version": 3
   },
   "file_extension": ".py",
   "mimetype": "text/x-python",
   "name": "python",
   "nbconvert_exporter": "python",
   "pygments_lexer": "ipython3",
   "version": "3.11.3"
  }
 },
 "nbformat": 4,
 "nbformat_minor": 5
}
